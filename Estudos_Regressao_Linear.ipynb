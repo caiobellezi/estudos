{
  "nbformat": 4,
  "nbformat_minor": 0,
  "metadata": {
    "colab": {
      "name": "Estudos - Regressao Linear.ipynb",
      "provenance": [],
      "collapsed_sections": [],
      "authorship_tag": "ABX9TyMGnU19dpwNeq96cZucvUnA",
      "include_colab_link": true
    },
    "kernelspec": {
      "name": "python3",
      "display_name": "Python 3"
    }
  },
  "cells": [
    {
      "cell_type": "markdown",
      "metadata": {
        "id": "view-in-github",
        "colab_type": "text"
      },
      "source": [
        "<a href=\"https://colab.research.google.com/github/caiobellezi/estudos/blob/master/Estudos_Regressao_Linear.ipynb\" target=\"_parent\"><img src=\"https://colab.research.google.com/assets/colab-badge.svg\" alt=\"Open In Colab\"/></a>"
      ]
    },
    {
      "cell_type": "markdown",
      "metadata": {
        "id": "euWmjMkK16X4",
        "colab_type": "text"
      },
      "source": [
        "# Regressão Linear, Ridge e Lasso\n",
        "\n",
        "\n",
        "Realiza uma análise comparativa entre a Regressão Linear, o Ridge e o Lasso no Boston Housing Dataset.\n",
        "\n",
        "Baseado no livro: Andreas C. Müller, Sarah Guido (2016)\n",
        "*Introduction to Machine Learning with Python: A Guide for Data Scientists 1st Edition*.\n",
        "\n",
        "Exercicio proposto pelo:\n",
        "Prof. Hugo de Paula - PUC Minas\n",
        "\n",
        "-------------------------------------------------------------------------------\n",
        "\n",
        "### Base de dados: Boston Housing dataset\n",
        "\n",
        "http://www.cs.toronto.edu/~delve/data/boston/bostonDetail.html\n",
        "\n",
        "506 registros\n",
        "\n",
        "14 atributos\n",
        "\n",
        "\n",
        "\n",
        "\n",
        "\n",
        "\n",
        "\n",
        "\n",
        "\n",
        "\n",
        "\n",
        "\n",
        "\n",
        "\n",
        "\n",
        "\n",
        "\n",
        "\n",
        "\n",
        "\n",
        "\n",
        "\n",
        "\n",
        "\n",
        "\n",
        "\n",
        "\n"
      ]
    },
    {
      "cell_type": "markdown",
      "metadata": {
        "id": "7_3zACN64oBb",
        "colab_type": "text"
      },
      "source": [
        "## Importar as bibliotecas e carregar dataset"
      ]
    },
    {
      "cell_type": "code",
      "metadata": {
        "id": "q4_yT43t3DBb",
        "colab_type": "code",
        "colab": {
          "base_uri": "https://localhost:8080/",
          "height": 54
        },
        "outputId": "8edd77d6-502d-4a4c-9127-34fe80106fef"
      },
      "source": [
        "#importando as bibliotecas\n",
        "from sklearn.datasets import load_boston\n",
        "from sklearn.model_selection import train_test_split\n",
        "from sklearn.preprocessing import MinMaxScaler, PolynomialFeatures\n",
        "from sklearn.linear_model import LinearRegression, Ridge, Lasso\n",
        "import numpy as np\n",
        "import matplotlib.pyplot as plt\n",
        "\n",
        "boston = load_boston()\n",
        "X = boston.data\n",
        "print(\"Dimensoes originais\",X.shape)\n",
        "\n",
        "# O PolynomialFeaures() aumenta a dimensão dos dados produzindo novos atributos \n",
        "# que são combinações lineares dos dados originais.\n",
        "\n",
        "X = MinMaxScaler().fit_transform(boston.data)\n",
        "X = PolynomialFeatures(degree=2, include_bias=False).fit_transform(X)\n",
        "\n",
        "print(\"Polynomial Features (atributos redundantes):\", X.shape)\n",
        "\n",
        "y = boston.target"
      ],
      "execution_count": 30,
      "outputs": [
        {
          "output_type": "stream",
          "text": [
            "Dimensoes originais (506, 13)\n",
            "Polynomial Features (atributos redundantes): (506, 104)\n"
          ],
          "name": "stdout"
        }
      ]
    },
    {
      "cell_type": "markdown",
      "metadata": {
        "id": "-q3ozYCODYZA",
        "colab_type": "text"
      },
      "source": [
        "### Regressão Linear\n",
        "\n",
        "\n",
        "Os passos para indução de um modelo são:\n",
        "\n",
        "1.   Instanciar o modelo: ``` LinearRegression()```\n",
        "2.   Treinar o modelo: ```fit()```\n",
        "\n",
        "O método ```score()``` retorna o coeficiente R² de predição."
      ]
    },
    {
      "cell_type": "code",
      "metadata": {
        "id": "z2rQc-83FGvP",
        "colab_type": "code",
        "colab": {
          "base_uri": "https://localhost:8080/",
          "height": 72
        },
        "outputId": "c7f21d22-22d5-4fae-e73a-bd17495e4567"
      },
      "source": [
        "X_train, X_test, y_train, y_test = train_test_split(X, y, random_state=0, test_size=0.25)\n",
        "\n",
        "lr = LinearRegression().fit(X_train, y_train)\n",
        "\n",
        "print(\"Regressao Linear (com atributos redundantes)\")\n",
        "print(\"Acurácia (treino): {:.2f}\".format(lr.score(X_train, y_train)))\n",
        "print(\"Acurácia (teste): {:.2f}\".format(lr.score(X_test, y_test)))"
      ],
      "execution_count": 31,
      "outputs": [
        {
          "output_type": "stream",
          "text": [
            "Regressao Linear (com atributos redundantes)\n",
            "Acurácia (treino): 0.95\n",
            "Acurácia (teste): 0.61\n"
          ],
          "name": "stdout"
        }
      ]
    },
    {
      "cell_type": "markdown",
      "metadata": {
        "id": "bth7kC2CF2zL",
        "colab_type": "text"
      },
      "source": [
        "\n",
        "### Ridge (Regressão linear com regularização L2)\n",
        "\n",
        "Força uma redução do valor dos coeficientes, penalizando coeficientes grandes que não contribuem significativamente para a explicação da variância do sinal.\n",
        "\n",
        "A força da regularização é dada pelo atributo ```alpha```, com valor *default* igual a 1."
      ]
    },
    {
      "cell_type": "code",
      "metadata": {
        "id": "zisQEc0OGK5j",
        "colab_type": "code",
        "colab": {
          "base_uri": "https://localhost:8080/",
          "height": 217
        },
        "outputId": "3f72edcd-76f8-4d0e-9466-3ae855106cd9"
      },
      "source": [
        "ridge = Ridge().fit(X_train, y_train)\n",
        "print(\"Ridge alpha: 1\")\n",
        "print(\"Acurácia (treino):  {:.2f}\".format(ridge.score(X_train, y_train)))\n",
        "print(\"Acururácia (teste): {:.2f}\".format(ridge.score(X_test, y_test)))\n",
        "\n",
        "\n",
        "ridge10 = Ridge(alpha=10).fit(X_train, y_train)\n",
        "print(\"\\nRidge alpha: 10\")\n",
        "print(\"Acurácia (treino):  {:.2f}\".format(ridge10.score(X_train, y_train)))\n",
        "print(\"Acururácia (teste): {:.2f}\".format(ridge10.score(X_test, y_test)))\n",
        "\n",
        "\n",
        "\n",
        "ridge01 = Ridge(alpha=0.1).fit(X_train, y_train)\n",
        "print(\"\\nRidge alpha: 0.1\")\n",
        "print(\"Acurácia (treino):  {:.2f}\".format(ridge01.score(X_train, y_train)))\n",
        "print(\"Acururácia (teste): {:.2f}\".format(ridge01.score(X_test, y_test)))"
      ],
      "execution_count": 32,
      "outputs": [
        {
          "output_type": "stream",
          "text": [
            "Ridge alpha: 1\n",
            "Acurácia (treino):  0.89\n",
            "Acururácia (teste): 0.75\n",
            "\n",
            "Ridge alpha: 10\n",
            "Acurácia (treino):  0.79\n",
            "Acururácia (teste): 0.64\n",
            "\n",
            "Ridge alpha: 0.1\n",
            "Acurácia (treino):  0.93\n",
            "Acururácia (teste): 0.77\n"
          ],
          "name": "stdout"
        }
      ]
    },
    {
      "cell_type": "markdown",
      "metadata": {
        "id": "j0kbJzfonyAn",
        "colab_type": "text"
      },
      "source": [
        "### Comparação da Regressão linear e Ridge\n",
        "\n",
        "O gráfico exibe a magnitude dos coeficientes obtidos por cada método. Pode-se observar como a regularização afeta a magnitude dos coeficientes do Ridge como um todo, mas sem zerar coeficientes de uma forma geral."
      ]
    },
    {
      "cell_type": "code",
      "metadata": {
        "id": "wEpbiHg3pi02",
        "colab_type": "code",
        "colab": {
          "base_uri": "https://localhost:8080/",
          "height": 406
        },
        "outputId": "7c673bae-271b-4237-b153-bbeff9debff1"
      },
      "source": [
        "plt.figure(figsize=(9, 6))\n",
        "plt.plot(ridge.coef_, 's', label=\"Ridge alpha=1\")\n",
        "plt.plot(ridge10.coef_, '^', label=\"Ridge alpha=10\")\n",
        "plt.plot(ridge01.coef_, 'v', label=\"Ridge alpha=0.1\")\n",
        "plt.plot(lr.coef_, 'o', label=\"Regressão linear\")\n",
        "plt.xlabel(\"Coeficiente\")\n",
        "plt.ylabel(\"Magnitude\")\n",
        "plt.hlines(0, 0, len(lr.coef_))\n",
        "plt.ylim(-25, 25)\n",
        "plt.legend()\n"
      ],
      "execution_count": 33,
      "outputs": [
        {
          "output_type": "execute_result",
          "data": {
            "text/plain": [
              "<matplotlib.legend.Legend at 0x7f3d41e99b70>"
            ]
          },
          "metadata": {
            "tags": []
          },
          "execution_count": 33
        },
        {
          "output_type": "display_data",
          "data": {
            "image/png": "[encoded data removed]",
            "text/plain": [
              "<Figure size 648x432 with 1 Axes>"
            ]
          },
          "metadata": {
            "tags": [],
            "needs_background": "light"
          }
        }
      ]
    },
    {
      "cell_type": "markdown",
      "metadata": {
        "id": "Jc5GIk5rpoRE",
        "colab_type": "text"
      },
      "source": [
        "### LASSO (Regressão linear com regularização L1)\n",
        "\n",
        "Força uma redução do valor dos coeficientes, podendo zerar diversos coeficientes cujos atributos não contribuem significativamente para a previsão. Muito utilizado no apoio à tarefa de seleção de atributos (*feature selection*).\n",
        "\n",
        "A força da regularização é dada pelo atributo ```alpha```, com valor *default* igual a 1. ```Alpha=0``` resulta na regressão linear tradicional."
      ]
    },
    {
      "cell_type": "code",
      "metadata": {
        "id": "_EJYblcTvjEO",
        "colab_type": "code",
        "colab": {
          "base_uri": "https://localhost:8080/",
          "height": 272
        },
        "outputId": "bce99453-e864-455b-a14a-3a248d194791"
      },
      "source": [
        "lasso = Lasso().fit(X_train, y_train)\n",
        "print(\"Lasso alpha=1\")\n",
        "print(\"Acurácia na base de treinamento: {:.2f}\".format(lasso.score(X_train, y_train)))\n",
        "print(\"Acurácia na base de teste: {:.2f}\".format(lasso.score(X_test, y_test)))\n",
        "print(\"Número de atributos usados: {}\".format(np.sum(lasso.coef_ != 0)))\n",
        "\n",
        "lasso001 = Lasso(alpha=0.01, max_iter=100000).fit(X_train, y_train)\n",
        "print(\"\\nLasso alpha=.01\")\n",
        "print(\"Acurácia na base de treinamento: {:.2f}\".format(lasso001.score(X_train, y_train)))\n",
        "print(\"Acurácia na base de teste: {:.2f}\".format(lasso001.score(X_test, y_test)))\n",
        "print(\"Número de atributos usados: {}\".format(np.sum(lasso001.coef_ != 0)))\n",
        "\n",
        "\n",
        "lasso00001 = Lasso(alpha=0.0001, max_iter=100000).fit(X_train, y_train)\n",
        "print(\"\\nLasso alpha=.0001\")\n",
        "print(\"Acurácia na base de treinamento: {:.2f}\".format(lasso00001.score(X_train, y_train)))\n",
        "print(\"Acurácia na base de teste: {:.2f}\".format(lasso00001.score(X_test, y_test)))\n",
        "print(\"Número de atributos usados: {}\".format(np.sum(lasso00001.coef_ != 0)))"
      ],
      "execution_count": 42,
      "outputs": [
        {
          "output_type": "stream",
          "text": [
            "Lasso alpha=1\n",
            "Acurácia na base de treinamento: 0.29\n",
            "Acurácia na base de teste: 0.21\n",
            "Número de atributos usados: 4\n",
            "\n",
            "Lasso alpha=.01\n",
            "Acurácia na base de treinamento: 0.90\n",
            "Acurácia na base de teste: 0.77\n",
            "Número de atributos usados: 33\n",
            "\n",
            "Lasso alpha=.0001\n",
            "Acurácia na base de treinamento: 0.95\n",
            "Acurácia na base de teste: 0.64\n",
            "Número de atributos usados: 96\n"
          ],
          "name": "stdout"
        }
      ]
    },
    {
      "cell_type": "markdown",
      "metadata": {
        "id": "H55mOetFvo6k",
        "colab_type": "text"
      },
      "source": [
        "### Comparação da LASSO e Ridge\n",
        "\n",
        "O gráfico exibe a magnitude dos coeficientes obtidos por cada método."
      ]
    },
    {
      "cell_type": "code",
      "metadata": {
        "id": "VvokU_SDxZVm",
        "colab_type": "code",
        "colab": {
          "base_uri": "https://localhost:8080/",
          "height": 440
        },
        "outputId": "2f502876-8e14-42a5-8605-7c98bf90d3bb"
      },
      "source": [
        "plt.figure(figsize=(9, 6))\n",
        "#plt.plot(lasso.coef_, 's', label=\"Lasso alpha=1\")\n",
        "plt.plot(lasso001.coef_, '^', label=\"Lasso alpha=0.01\")\n",
        "#plt.plot(lasso00001.coef_, 'v', label=\"Lasso alpha=0.0001\")\n",
        "plt.plot(ridge01.coef_, 'o', label=\"Ridge alpha=0.1\")\n",
        "plt.legend(ncol=2, loc=(0, 1.05))\n",
        "plt.ylim(-25, 25)\n",
        "plt.xlabel(\"Coeficiente\")\n",
        "plt.ylabel(\"Magnitude\")"
      ],
      "execution_count": 44,
      "outputs": [
        {
          "output_type": "execute_result",
          "data": {
            "text/plain": [
              "Text(0, 0.5, 'Magnitude')"
            ]
          },
          "metadata": {
            "tags": []
          },
          "execution_count": 44
        },
        {
          "output_type": "display_data",
          "data": {
            "image/png": "[encoded data removed]",
            "text/plain": [
              "<Figure size 648x432 with 1 Axes>"
            ]
          },
          "metadata": {
            "tags": [],
            "needs_background": "light"
          }
        }
      ]
    },
    {
      "cell_type": "code",
      "metadata": {
        "id": "5CPCv3c7xwL_",
        "colab_type": "code",
        "colab": {}
      },
      "source": [
        ""
      ],
      "execution_count": null,
      "outputs": []
    }
  ]
}