{
  "nbformat": 4,
  "nbformat_minor": 0,
  "metadata": {
    "colab": {
      "name": "Estudos - Naive Bayes.ipynb",
      "provenance": [],
      "collapsed_sections": [],
      "authorship_tag": "ABX9TyMesT6IL8oJ3A8ULjVaQCV5",
      "include_colab_link": true
    },
    "kernelspec": {
      "name": "python3",
      "display_name": "Python 3"
    }
  },
  "cells": [
    {
      "cell_type": "markdown",
      "metadata": {
        "id": "view-in-github",
        "colab_type": "text"
      },
      "source": [
        "<a href=\"https://colab.research.google.com/github/caiobellezi/estudos/blob/master/Estudos_Naive_Bayes.ipynb\" target=\"_parent\"><img src=\"https://colab.research.google.com/assets/colab-badge.svg\" alt=\"Open In Colab\"/></a>"
      ]
    },
    {
      "cell_type": "markdown",
      "metadata": {
        "id": "DRyi-MIMnJ9K",
        "colab_type": "text"
      },
      "source": [
        "# Naïve Bayes\n",
        "\n",
        "\n",
        "Ilustra o funcionamento do algoritmo de Naïve Bayes com atributos numéricos.\n",
        "\n",
        "Exercico proposto por:\n",
        "Prof. Hugo de Paula - PUC Minas\n",
        "\n",
        "-------------------------------------------------------------------------------\n",
        "\n",
        "### Base de dados: Iris dataset (espécies de lírios)\n",
        "\n",
        "https://archive.ics.uci.edu/ml/datasets/Iris/\n",
        "\n",
        "3 classes (setosa, virginica, versicolor)\n",
        "\n",
        "50 amostras por classe\n",
        "\n",
        "4 atributos reais positivos (comp. pétala, comp. sépala, larg. pétala, larg. sépala)\n",
        "\n",
        "### Carga dos dados e particionamento das bases de treinamento e teste\n",
        "\n",
        "<code>train_test_split(X, y) -- particiona a base de dados original em bases de treinamento e teste.</code>\n",
        "\n",
        "Por padrão, 75% da base é utilizada para treinamento e 25% para testes."
      ]
    },
    {
      "cell_type": "code",
      "metadata": {
        "id": "wuwzPhhQo0CE",
        "colab_type": "code",
        "colab": {}
      },
      "source": [
        "# importando as bibliotecas\n",
        "import pandas as pd\n",
        "from sklearn.datasets import load_iris\n",
        "from sklearn.model_selection import train_test_split\n",
        "from sklearn.naive_bayes import GaussianNB\n",
        "from sklearn.metrics import confusion_matrix, classification_report\n",
        "\n",
        "#carregando o dataset\n",
        "\n",
        "iris = load_iris()\n",
        "\n",
        "X_train, X_test, y_train, y_test = train_test_split(iris[\"data\"], iris[\"target\"], random_state=0, test_size=0.25)"
      ],
      "execution_count": 30,
      "outputs": []
    },
    {
      "cell_type": "markdown",
      "metadata": {
        "id": "v24A5lncp4gB",
        "colab_type": "text"
      },
      "source": [
        "### Indução do Modelo Gaussian Naïve Bayes\n",
        "\n",
        "O Gaussian Naïve Bayes é o algoritmo capaz de induzir um modelo a partir de dados numéricos.\n",
        "\n",
        "Os três passos para indução de um modelo são:\n",
        "\n",
        "1.   Instanciar o modelo: ```GaussianNB()```\n",
        "2.   Treinar o modelo: ```fit()```\n",
        "3.   Testar o modelo: ```predict()```"
      ]
    },
    {
      "cell_type": "code",
      "metadata": {
        "id": "GQwCXHvBtmo6",
        "colab_type": "code",
        "colab": {
          "base_uri": "https://localhost:8080/",
          "height": 306
        },
        "outputId": "51febffb-d244-46cf-f87c-9f81a9dce3dd"
      },
      "source": [
        "# instanciar e treinar o modelo\n",
        "gnb = GaussianNB()\n",
        "y_pred = gnb.fit(X_train, y_train)\n",
        "y_pred = y_pred.predict(X_test)\n",
        "\n",
        "#Imprimir quantidade de arros e acuracia\n",
        "print(\"Numero de erros de classificacao {0} de {1}\".format((y_test != y_pred).sum(), iris.data.shape[0]))\n",
        "ac = gnb.score(X_test, y_test)\n",
        "print(\"Acuracia do modelo: {0:.2f}%\\n\".format(100*ac))\n",
        "\n",
        "#gerar relatoria de classificacao\n",
        "print(classification_report(y_test, y_pred, target_names=iris.target_names))\n",
        "\n",
        "#gerar matriz de confusao\n",
        "cnf_matrix = confusion_matrix(y_test, y_pred)\n",
        "cnf_table = pd.DataFrame(data=cnf_matrix, index=iris.target_names, columns=[x+ \"(prev)\" for x in iris.target_names])\n",
        "print(cnf_table)\n"
      ],
      "execution_count": 31,
      "outputs": [
        {
          "output_type": "stream",
          "text": [
            "Numero de erros de classificacao 0 de 150\n",
            "Acuracia do modelo: 100.00%\n",
            "\n",
            "              precision    recall  f1-score   support\n",
            "\n",
            "      setosa       1.00      1.00      1.00        13\n",
            "  versicolor       1.00      1.00      1.00        16\n",
            "   virginica       1.00      1.00      1.00         9\n",
            "\n",
            "    accuracy                           1.00        38\n",
            "   macro avg       1.00      1.00      1.00        38\n",
            "weighted avg       1.00      1.00      1.00        38\n",
            "\n",
            "            setosa(prev)  versicolor(prev)  virginica(prev)\n",
            "setosa                13                 0                0\n",
            "versicolor             0                16                0\n",
            "virginica              0                 0                9\n"
          ],
          "name": "stdout"
        }
      ]
    },
    {
      "cell_type": "code",
      "metadata": {
        "id": "kijERz_VxVN8",
        "colab_type": "code",
        "colab": {}
      },
      "source": [
        ""
      ],
      "execution_count": 29,
      "outputs": []
    }
  ]
}